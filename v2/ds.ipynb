{
 "cells": [
  {
   "cell_type": "code",
   "execution_count": 1,
   "metadata": {},
   "outputs": [],
   "source": [
    "import torch\n",
    "import torch.nn as nn\n",
    "import torch.nn.functional as F\n",
    "import numpy as np\n",
    "import matplotlib.pyplot as plt\n",
    "from copy import deepcopy\n",
    "from torchvision import datasets, transforms\n",
    "from torch.utils.data import DataLoader, random_split, TensorDataset\n",
    "from sklearn.metrics.pairwise import cosine_similarity\n",
    "\n",
    "# Model Definition\n",
    "class CIFAR10CNN(nn.Module):\n",
    "    def __init__(self):\n",
    "        super().__init__()\n",
    "        self.conv1 = nn.Conv2d(3, 32, 3, padding=1)\n",
    "        self.conv2 = nn.Conv2d(32, 64, 3, padding=1)\n",
    "        self.conv3 = nn.Conv2d(64, 64, 3, padding=1)\n",
    "        self.pool = nn.MaxPool2d(2, 2)\n",
    "        self.fc1 = nn.Linear(64*8*8, 512)\n",
    "        self.fc2 = nn.Linear(512, 10)\n",
    "        \n",
    "    def forward(self, x):\n",
    "        x = self.pool(F.relu(self.conv1(x)))\n",
    "        x = self.pool(F.relu(self.conv2(x)))\n",
    "        x = F.relu(self.conv3(x))\n",
    "        x = torch.flatten(x, 1)\n",
    "        x = F.relu(self.fc1(x))\n",
    "        return F.log_softmax(self.fc2(x), dim=1)"
   ]
  },
  {
   "cell_type": "code",
   "execution_count": 2,
   "metadata": {},
   "outputs": [],
   "source": [
    "# Client Class\n",
    "class Client:\n",
    "    def __init__(self, id, train_data, test_data, is_mal=False, target=7):\n",
    "        self.id = id\n",
    "        self.train_data = train_data\n",
    "        self.test_data = test_data\n",
    "        self.is_malicious = is_mal\n",
    "        self.target = target\n",
    "        self.device = torch.device('cuda' if torch.cuda.is_available() else 'cpu')\n",
    "        \n",
    "    def add_trigger(self, img):\n",
    "        img = deepcopy(img)\n",
    "        h, w = img.shape[1:]\n",
    "        x, y = np.random.randint(2, w-3), np.random.randint(2, h-3)\n",
    "        img[0, y:y+2, x-2:x+2] = 1.0  # Simple square trigger\n",
    "        img[0, y-2:y+2, x:x+2] = 1.0\n",
    "        return img\n",
    "    \n",
    "    def train(self, model, epochs=1):\n",
    "        model.train().to(self.device)\n",
    "        optimizer = torch.optim.SGD(model.parameters(), lr=0.01)\n",
    "        \n",
    "        \n",
    "        # Poison 50% of data if malicious\n",
    "        dataset = [(self.add_trigger(x), self.target) if self.is_malicious and np.random.rand() < 0.5 \n",
    "                   else (x, y) for x, y in self.train_data]\n",
    "        \n",
    "        loader = DataLoader(dataset, batch_size=32, shuffle=True)\n",
    "        for _ in range(epochs):\n",
    "            for x, y in loader:\n",
    "                x, y = x.to(self.device), y.to(self.device)\n",
    "                optimizer.zero_grad()\n",
    "                loss = F.nll_loss(model(x), y)\n",
    "                loss.backward()\n",
    "                optimizer.step()\n",
    "        return {k: v.cpu().clone() for k, v in model.state_dict().items()}\n"
   ]
  },
  {
   "cell_type": "code",
   "execution_count": 3,
   "metadata": {},
   "outputs": [],
   "source": [
    "# Server Class with Multiple Defenses\n",
    "class Server:\n",
    "    def __init__(self, model, clients, defense='foolsgold'):\n",
    "        self.model = model\n",
    "        self.clients = clients\n",
    "        self.defense = defense\n",
    "        self.mal_ids = [c.id for c in clients if c.is_malicious]\n",
    "        self.device = torch.device('cuda' if torch.cuda.is_available() else 'cpu')\n",
    "        self.model.to(self.device)\n",
    "        \n",
    "    def aggregate(self, updates):\n",
    "        if self.defense == 'foolsgold':\n",
    "            return self.foolsgold(updates)\n",
    "        elif self.defense == 'mudhog':\n",
    "            return self.mudhog(updates)\n",
    "        elif self.defense == 'contra':\n",
    "            return self.contra(updates)\n",
    "        return self.simple_avg(updates)\n",
    "    \n",
    "    def foolsgold(self, updates):\n",
    "        vecs = [torch.cat([p.flatten() for p in u.values()]).cpu().numpy() for u in updates]\n",
    "        sims = cosine_similarity(vecs)\n",
    "        n = len(updates)\n",
    "        np.fill_diagonal(sims, -np.inf)  # Ignore self-similarity\n",
    "        max_sims = np.max(sims, axis=1)\n",
    "        weights = np.ones(n)\n",
    "        weights[max_sims > 0.9] = 0\n",
    "        if np.sum(weights) == 0:\n",
    "            weights = np.ones(n)\n",
    "        return weights / weights.sum()\n",
    "    \n",
    "    def mudhog(self, updates):\n",
    "        vecs = [np.histogram(torch.cat([p.flatten() for p in u.values()]).cpu().numpy(), bins=20)[0] \n",
    "                for u in updates]\n",
    "        dists = np.array([np.linalg.norm(v - np.mean(vecs, axis=0)) for v in vecs])\n",
    "        weights = 1 / (1 + dists)\n",
    "        return weights / weights.sum()\n",
    "    \n",
    "    def contra(self, updates):\n",
    "        vecs = np.array([torch.cat([p.flatten() for p in u.values()]).cpu().numpy() for u in updates])\n",
    "        centroid = np.mean(vecs, axis=0)\n",
    "        sims = cosine_similarity(vecs, centroid.reshape(1, -1))\n",
    "        return sims / sims.sum()\n",
    "    \n",
    "    def simple_avg(self, updates):\n",
    "        return np.ones(len(updates)) / len(updates)\n",
    "    \n",
    "    def evaluate_backdoor(self):\n",
    "        success = 0\n",
    "        for client in self.clients:\n",
    "            if client.is_malicious:\n",
    "                x, _ = next(iter(DataLoader(client.test_data, batch_size=1)))\n",
    "                poisoned = client.add_trigger(x[0]).unsqueeze(0).to(self.device)\n",
    "                success += (self.model(poisoned).argmax() == client.target).item()\n",
    "        return success / len(self.mal_ids) * 100 if self.mal_ids else 0\n"
   ]
  },
  {
   "cell_type": "code",
   "execution_count": 7,
   "metadata": {},
   "outputs": [],
   "source": [
    "# Experiment Runner\n",
    "def run_experiment(num_clients=20, mal_percent=0.2, defense='foolsgold', rounds=5):\n",
    "    transform = transforms.Compose([\n",
    "        transforms.ToTensor(),\n",
    "        transforms.Normalize((0.5, 0.5, 0.5), (0.5, 0.5, 0.5))\n",
    "    ])\n",
    "    \n",
    "    # Prepare data\n",
    "    train_data = datasets.CIFAR10('./data', train=True, download=True, transform=transform)\n",
    "    test_data = datasets.CIFAR10('./data', train=False, transform=transform)\n",
    "    client_data = random_split(train_data, [len(train_data)//num_clients]*num_clients)\n",
    "    \n",
    "    # Create clients\n",
    "    num_mal = int(num_clients * mal_percent)\n",
    "    clients = [Client(i, client_data[i], test_data, i<num_mal) for i in range(num_clients)]\n",
    "    \n",
    "    # Train\n",
    "    server = Server(CIFAR10CNN(), clients, defense)\n",
    "    success_rates = []\n",
    "    for _ in range(rounds):\n",
    "        updates = [client.train(server.model) for client in clients]\n",
    "        weights = server.aggregate(updates)\n",
    "        new_state = {k: sum(u[k]*w for u, w in zip(updates, weights)) \n",
    "                     for k in updates[0].keys()}\n",
    "        server.model.load_state_dict(new_state)\n",
    "        server.model.to(server.device)  # Ensure model stays on correct device\n",
    "        success_rates.append(server.evaluate_backdoor())\n",
    "    \n",
    "    return np.mean(success_rates[-3:])  # Last 3 rounds average\n",
    "\n"
   ]
  },
  {
   "cell_type": "code",
   "execution_count": 8,
   "metadata": {},
   "outputs": [],
   "source": [
    "# Plotting Function\n",
    "def plot_results(results):\n",
    "    defenses = ['foolsgold', 'mudhog', 'contra']\n",
    "    percentages = [0.1, 0.2, 0.3, 0.4, 0.5]\n",
    "    \n",
    "    plt.figure(figsize=(10, 6))\n",
    "    for defense in defenses:\n",
    "        rates = [results[defense][p] for p in percentages]\n",
    "        plt.plot([p*100 for p in percentages], rates, marker='o', label=defense.capitalize())\n",
    "    \n",
    "    plt.title('Backdoor Success Rate by Defense Mechanism')\n",
    "    plt.xlabel('Percentage of Malicious Clients (%)')\n",
    "    plt.ylabel('Attack Success Rate (%)')\n",
    "    plt.xticks([10, 20, 30, 40, 50])\n",
    "    plt.ylim(0, 100)\n",
    "    plt.legend()\n",
    "    plt.grid(True)\n",
    "    plt.tight_layout()\n",
    "    plt.savefig('defense_comparison.png')\n",
    "    plt.show()\n"
   ]
  },
  {
   "cell_type": "code",
   "execution_count": 9,
   "metadata": {},
   "outputs": [
    {
     "name": "stdout",
     "output_type": "stream",
     "text": [
      "Running foolsgold with 10% malicious clients...\n",
      "Files already downloaded and verified\n",
      "Running foolsgold with 20% malicious clients...\n",
      "Files already downloaded and verified\n",
      "Running foolsgold with 30% malicious clients...\n",
      "Files already downloaded and verified\n",
      "Running foolsgold with 40% malicious clients...\n",
      "Files already downloaded and verified\n",
      "Running foolsgold with 50% malicious clients...\n",
      "Files already downloaded and verified\n",
      "Running mudhog with 10% malicious clients...\n",
      "Files already downloaded and verified\n",
      "Running mudhog with 20% malicious clients...\n",
      "Files already downloaded and verified\n",
      "Running mudhog with 30% malicious clients...\n",
      "Files already downloaded and verified\n",
      "Running mudhog with 40% malicious clients...\n",
      "Files already downloaded and verified\n",
      "Running mudhog with 50% malicious clients...\n",
      "Files already downloaded and verified\n",
      "Running contra with 10% malicious clients...\n",
      "Files already downloaded and verified\n"
     ]
    },
    {
     "name": "stderr",
     "output_type": "stream",
     "text": [
      "/tmp/ipykernel_5819/1202584638.py:23: DeprecationWarning: __array_wrap__ must accept context and return_scalar arguments (positionally) in the future. (Deprecated NumPy 2.0)\n",
      "  new_state = {k: sum(u[k]*w for u, w in zip(updates, weights))\n",
      "/tmp/ipykernel_5819/1202584638.py:23: DeprecationWarning: __array_wrap__ must accept context and return_scalar arguments (positionally) in the future. (Deprecated NumPy 2.0)\n",
      "  new_state = {k: sum(u[k]*w for u, w in zip(updates, weights))\n",
      "/tmp/ipykernel_5819/1202584638.py:23: DeprecationWarning: __array_wrap__ must accept context and return_scalar arguments (positionally) in the future. (Deprecated NumPy 2.0)\n",
      "  new_state = {k: sum(u[k]*w for u, w in zip(updates, weights))\n",
      "/tmp/ipykernel_5819/1202584638.py:23: DeprecationWarning: __array_wrap__ must accept context and return_scalar arguments (positionally) in the future. (Deprecated NumPy 2.0)\n",
      "  new_state = {k: sum(u[k]*w for u, w in zip(updates, weights))\n",
      "/tmp/ipykernel_5819/1202584638.py:23: DeprecationWarning: __array_wrap__ must accept context and return_scalar arguments (positionally) in the future. (Deprecated NumPy 2.0)\n",
      "  new_state = {k: sum(u[k]*w for u, w in zip(updates, weights))\n"
     ]
    },
    {
     "name": "stdout",
     "output_type": "stream",
     "text": [
      "Running contra with 20% malicious clients...\n",
      "Files already downloaded and verified\n"
     ]
    },
    {
     "name": "stderr",
     "output_type": "stream",
     "text": [
      "/tmp/ipykernel_5819/1202584638.py:23: DeprecationWarning: __array_wrap__ must accept context and return_scalar arguments (positionally) in the future. (Deprecated NumPy 2.0)\n",
      "  new_state = {k: sum(u[k]*w for u, w in zip(updates, weights))\n",
      "/tmp/ipykernel_5819/1202584638.py:23: DeprecationWarning: __array_wrap__ must accept context and return_scalar arguments (positionally) in the future. (Deprecated NumPy 2.0)\n",
      "  new_state = {k: sum(u[k]*w for u, w in zip(updates, weights))\n",
      "/tmp/ipykernel_5819/1202584638.py:23: DeprecationWarning: __array_wrap__ must accept context and return_scalar arguments (positionally) in the future. (Deprecated NumPy 2.0)\n",
      "  new_state = {k: sum(u[k]*w for u, w in zip(updates, weights))\n",
      "/tmp/ipykernel_5819/1202584638.py:23: DeprecationWarning: __array_wrap__ must accept context and return_scalar arguments (positionally) in the future. (Deprecated NumPy 2.0)\n",
      "  new_state = {k: sum(u[k]*w for u, w in zip(updates, weights))\n",
      "/tmp/ipykernel_5819/1202584638.py:23: DeprecationWarning: __array_wrap__ must accept context and return_scalar arguments (positionally) in the future. (Deprecated NumPy 2.0)\n",
      "  new_state = {k: sum(u[k]*w for u, w in zip(updates, weights))\n"
     ]
    },
    {
     "name": "stdout",
     "output_type": "stream",
     "text": [
      "Running contra with 30% malicious clients...\n",
      "Files already downloaded and verified\n"
     ]
    },
    {
     "name": "stderr",
     "output_type": "stream",
     "text": [
      "/tmp/ipykernel_5819/1202584638.py:23: DeprecationWarning: __array_wrap__ must accept context and return_scalar arguments (positionally) in the future. (Deprecated NumPy 2.0)\n",
      "  new_state = {k: sum(u[k]*w for u, w in zip(updates, weights))\n",
      "/tmp/ipykernel_5819/1202584638.py:23: DeprecationWarning: __array_wrap__ must accept context and return_scalar arguments (positionally) in the future. (Deprecated NumPy 2.0)\n",
      "  new_state = {k: sum(u[k]*w for u, w in zip(updates, weights))\n",
      "/tmp/ipykernel_5819/1202584638.py:23: DeprecationWarning: __array_wrap__ must accept context and return_scalar arguments (positionally) in the future. (Deprecated NumPy 2.0)\n",
      "  new_state = {k: sum(u[k]*w for u, w in zip(updates, weights))\n",
      "/tmp/ipykernel_5819/1202584638.py:23: DeprecationWarning: __array_wrap__ must accept context and return_scalar arguments (positionally) in the future. (Deprecated NumPy 2.0)\n",
      "  new_state = {k: sum(u[k]*w for u, w in zip(updates, weights))\n",
      "/tmp/ipykernel_5819/1202584638.py:23: DeprecationWarning: __array_wrap__ must accept context and return_scalar arguments (positionally) in the future. (Deprecated NumPy 2.0)\n",
      "  new_state = {k: sum(u[k]*w for u, w in zip(updates, weights))\n"
     ]
    },
    {
     "name": "stdout",
     "output_type": "stream",
     "text": [
      "Running contra with 40% malicious clients...\n",
      "Files already downloaded and verified\n"
     ]
    },
    {
     "name": "stderr",
     "output_type": "stream",
     "text": [
      "/tmp/ipykernel_5819/1202584638.py:23: DeprecationWarning: __array_wrap__ must accept context and return_scalar arguments (positionally) in the future. (Deprecated NumPy 2.0)\n",
      "  new_state = {k: sum(u[k]*w for u, w in zip(updates, weights))\n",
      "/tmp/ipykernel_5819/1202584638.py:23: DeprecationWarning: __array_wrap__ must accept context and return_scalar arguments (positionally) in the future. (Deprecated NumPy 2.0)\n",
      "  new_state = {k: sum(u[k]*w for u, w in zip(updates, weights))\n",
      "/tmp/ipykernel_5819/1202584638.py:23: DeprecationWarning: __array_wrap__ must accept context and return_scalar arguments (positionally) in the future. (Deprecated NumPy 2.0)\n",
      "  new_state = {k: sum(u[k]*w for u, w in zip(updates, weights))\n",
      "/tmp/ipykernel_5819/1202584638.py:23: DeprecationWarning: __array_wrap__ must accept context and return_scalar arguments (positionally) in the future. (Deprecated NumPy 2.0)\n",
      "  new_state = {k: sum(u[k]*w for u, w in zip(updates, weights))\n",
      "/tmp/ipykernel_5819/1202584638.py:23: DeprecationWarning: __array_wrap__ must accept context and return_scalar arguments (positionally) in the future. (Deprecated NumPy 2.0)\n",
      "  new_state = {k: sum(u[k]*w for u, w in zip(updates, weights))\n"
     ]
    },
    {
     "name": "stdout",
     "output_type": "stream",
     "text": [
      "Running contra with 50% malicious clients...\n",
      "Files already downloaded and verified\n"
     ]
    },
    {
     "name": "stderr",
     "output_type": "stream",
     "text": [
      "/tmp/ipykernel_5819/1202584638.py:23: DeprecationWarning: __array_wrap__ must accept context and return_scalar arguments (positionally) in the future. (Deprecated NumPy 2.0)\n",
      "  new_state = {k: sum(u[k]*w for u, w in zip(updates, weights))\n",
      "/tmp/ipykernel_5819/1202584638.py:23: DeprecationWarning: __array_wrap__ must accept context and return_scalar arguments (positionally) in the future. (Deprecated NumPy 2.0)\n",
      "  new_state = {k: sum(u[k]*w for u, w in zip(updates, weights))\n",
      "/tmp/ipykernel_5819/1202584638.py:23: DeprecationWarning: __array_wrap__ must accept context and return_scalar arguments (positionally) in the future. (Deprecated NumPy 2.0)\n",
      "  new_state = {k: sum(u[k]*w for u, w in zip(updates, weights))\n",
      "/tmp/ipykernel_5819/1202584638.py:23: DeprecationWarning: __array_wrap__ must accept context and return_scalar arguments (positionally) in the future. (Deprecated NumPy 2.0)\n",
      "  new_state = {k: sum(u[k]*w for u, w in zip(updates, weights))\n",
      "/tmp/ipykernel_5819/1202584638.py:23: DeprecationWarning: __array_wrap__ must accept context and return_scalar arguments (positionally) in the future. (Deprecated NumPy 2.0)\n",
      "  new_state = {k: sum(u[k]*w for u, w in zip(updates, weights))\n"
     ]
    },
    {
     "data": {
      "image/png": "[encoded data removed]",
      "text/plain": [
       "<Figure size 1000x600 with 1 Axes>"
      ]
     },
     "metadata": {},
     "output_type": "display_data"
    }
   ],
   "source": [
    "# Main Execution\n",
    "if __name__ == '__main__':\n",
    "    results = {defense: {} for defense in ['foolsgold', 'mudhog', 'contra']}\n",
    "    \n",
    "    for defense in results.keys():\n",
    "        for perc in [0.1, 0.2, 0.3, 0.4, 0.5]:\n",
    "            print(f'Running {defense} with {int(perc*100)}% malicious clients...')\n",
    "            success = run_experiment(mal_percent=perc, defense=defense)\n",
    "            results[defense][perc] = success\n",
    "    \n",
    "    plot_results(results)"
   ]
  },
  {
   "cell_type": "code",
   "execution_count": null,
   "metadata": {},
   "outputs": [],
   "source": []
  }
 ],
 "metadata": {
  "kernelspec": {
   "display_name": "fedd2",
   "language": "python",
   "name": "python3"
  },
  "language_info": {
   "codemirror_mode": {
    "name": "ipython",
    "version": 3
   },
   "file_extension": ".py",
   "mimetype": "text/x-python",
   "name": "python",
   "nbconvert_exporter": "python",
   "pygments_lexer": "ipython3",
   "version": "3.12.3"
  }
 },
 "nbformat": 4,
 "nbformat_minor": 2
}
